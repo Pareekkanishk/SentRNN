{
 "cells": [
  {
   "cell_type": "code",
   "execution_count": 22,
   "id": "67f1f7ea",
   "metadata": {},
   "outputs": [],
   "source": [
    "# Step 1: Import Libraries and Load the Model\n",
    "import numpy as np\n",
    "import tensorflow as tf\n",
    "from tensorflow.keras.datasets import imdb\n",
    "from tensorflow.keras.preprocessing import sequence\n",
    "from tensorflow.keras.models import load_model"
   ]
  },
  {
   "cell_type": "code",
   "execution_count": 23,
   "id": "2e3e8d28",
   "metadata": {},
   "outputs": [],
   "source": [
    "# Load the IMDB dataset word index\n",
    "word_index = imdb.get_word_index()\n",
    "reverse_word_index = {value: key for key, value in word_index.items()}"
   ]
  },
  {
   "cell_type": "code",
   "execution_count": 24,
   "id": "93fdf84f",
   "metadata": {},
   "outputs": [
    {
     "name": "stderr",
     "output_type": "stream",
     "text": [
      "WARNING:absl:Compiled the loaded model, but the compiled metrics have yet to be built. `model.compile_metrics` will be empty until you train or evaluate the model.\n"
     ]
    },
    {
     "data": {
      "text/html": [
       "<pre style=\"white-space:pre;overflow-x:auto;line-height:normal;font-family:Menlo,'DejaVu Sans Mono',consolas,'Courier New',monospace\"><span style=\"font-weight: bold\">Model: \"sequential_1\"</span>\n",
       "</pre>\n"
      ],
      "text/plain": [
       "\u001b[1mModel: \"sequential_1\"\u001b[0m\n"
      ]
     },
     "metadata": {},
     "output_type": "display_data"
    },
    {
     "data": {
      "text/html": [
       "<pre style=\"white-space:pre;overflow-x:auto;line-height:normal;font-family:Menlo,'DejaVu Sans Mono',consolas,'Courier New',monospace\">┏━━━━━━━━━━━━━━━━━━━━━━━━━━━━━━━━━┳━━━━━━━━━━━━━━━━━━━━━━━━┳━━━━━━━━━━━━━━━┓\n",
       "┃<span style=\"font-weight: bold\"> Layer (type)                    </span>┃<span style=\"font-weight: bold\"> Output Shape           </span>┃<span style=\"font-weight: bold\">       Param # </span>┃\n",
       "┡━━━━━━━━━━━━━━━━━━━━━━━━━━━━━━━━━╇━━━━━━━━━━━━━━━━━━━━━━━━╇━━━━━━━━━━━━━━━┩\n",
       "│ embedding_1 (<span style=\"color: #0087ff; text-decoration-color: #0087ff\">Embedding</span>)         │ (<span style=\"color: #00d7ff; text-decoration-color: #00d7ff\">None</span>, <span style=\"color: #00af00; text-decoration-color: #00af00\">500</span>, <span style=\"color: #00af00; text-decoration-color: #00af00\">128</span>)       │     <span style=\"color: #00af00; text-decoration-color: #00af00\">1,280,000</span> │\n",
       "├─────────────────────────────────┼────────────────────────┼───────────────┤\n",
       "│ simple_rnn_1 (<span style=\"color: #0087ff; text-decoration-color: #0087ff\">SimpleRNN</span>)        │ (<span style=\"color: #00d7ff; text-decoration-color: #00d7ff\">None</span>, <span style=\"color: #00af00; text-decoration-color: #00af00\">128</span>)            │        <span style=\"color: #00af00; text-decoration-color: #00af00\">32,896</span> │\n",
       "├─────────────────────────────────┼────────────────────────┼───────────────┤\n",
       "│ dense_1 (<span style=\"color: #0087ff; text-decoration-color: #0087ff\">Dense</span>)                 │ (<span style=\"color: #00d7ff; text-decoration-color: #00d7ff\">None</span>, <span style=\"color: #00af00; text-decoration-color: #00af00\">1</span>)              │           <span style=\"color: #00af00; text-decoration-color: #00af00\">129</span> │\n",
       "└─────────────────────────────────┴────────────────────────┴───────────────┘\n",
       "</pre>\n"
      ],
      "text/plain": [
       "┏━━━━━━━━━━━━━━━━━━━━━━━━━━━━━━━━━┳━━━━━━━━━━━━━━━━━━━━━━━━┳━━━━━━━━━━━━━━━┓\n",
       "┃\u001b[1m \u001b[0m\u001b[1mLayer (type)                   \u001b[0m\u001b[1m \u001b[0m┃\u001b[1m \u001b[0m\u001b[1mOutput Shape          \u001b[0m\u001b[1m \u001b[0m┃\u001b[1m \u001b[0m\u001b[1m      Param #\u001b[0m\u001b[1m \u001b[0m┃\n",
       "┡━━━━━━━━━━━━━━━━━━━━━━━━━━━━━━━━━╇━━━━━━━━━━━━━━━━━━━━━━━━╇━━━━━━━━━━━━━━━┩\n",
       "│ embedding_1 (\u001b[38;5;33mEmbedding\u001b[0m)         │ (\u001b[38;5;45mNone\u001b[0m, \u001b[38;5;34m500\u001b[0m, \u001b[38;5;34m128\u001b[0m)       │     \u001b[38;5;34m1,280,000\u001b[0m │\n",
       "├─────────────────────────────────┼────────────────────────┼───────────────┤\n",
       "│ simple_rnn_1 (\u001b[38;5;33mSimpleRNN\u001b[0m)        │ (\u001b[38;5;45mNone\u001b[0m, \u001b[38;5;34m128\u001b[0m)            │        \u001b[38;5;34m32,896\u001b[0m │\n",
       "├─────────────────────────────────┼────────────────────────┼───────────────┤\n",
       "│ dense_1 (\u001b[38;5;33mDense\u001b[0m)                 │ (\u001b[38;5;45mNone\u001b[0m, \u001b[38;5;34m1\u001b[0m)              │           \u001b[38;5;34m129\u001b[0m │\n",
       "└─────────────────────────────────┴────────────────────────┴───────────────┘\n"
      ]
     },
     "metadata": {},
     "output_type": "display_data"
    },
    {
     "data": {
      "text/html": [
       "<pre style=\"white-space:pre;overflow-x:auto;line-height:normal;font-family:Menlo,'DejaVu Sans Mono',consolas,'Courier New',monospace\"><span style=\"font-weight: bold\"> Total params: </span><span style=\"color: #00af00; text-decoration-color: #00af00\">1,313,027</span> (5.01 MB)\n",
       "</pre>\n"
      ],
      "text/plain": [
       "\u001b[1m Total params: \u001b[0m\u001b[38;5;34m1,313,027\u001b[0m (5.01 MB)\n"
      ]
     },
     "metadata": {},
     "output_type": "display_data"
    },
    {
     "data": {
      "text/html": [
       "<pre style=\"white-space:pre;overflow-x:auto;line-height:normal;font-family:Menlo,'DejaVu Sans Mono',consolas,'Courier New',monospace\"><span style=\"font-weight: bold\"> Trainable params: </span><span style=\"color: #00af00; text-decoration-color: #00af00\">1,313,025</span> (5.01 MB)\n",
       "</pre>\n"
      ],
      "text/plain": [
       "\u001b[1m Trainable params: \u001b[0m\u001b[38;5;34m1,313,025\u001b[0m (5.01 MB)\n"
      ]
     },
     "metadata": {},
     "output_type": "display_data"
    },
    {
     "data": {
      "text/html": [
       "<pre style=\"white-space:pre;overflow-x:auto;line-height:normal;font-family:Menlo,'DejaVu Sans Mono',consolas,'Courier New',monospace\"><span style=\"font-weight: bold\"> Non-trainable params: </span><span style=\"color: #00af00; text-decoration-color: #00af00\">0</span> (0.00 B)\n",
       "</pre>\n"
      ],
      "text/plain": [
       "\u001b[1m Non-trainable params: \u001b[0m\u001b[38;5;34m0\u001b[0m (0.00 B)\n"
      ]
     },
     "metadata": {},
     "output_type": "display_data"
    },
    {
     "data": {
      "text/html": [
       "<pre style=\"white-space:pre;overflow-x:auto;line-height:normal;font-family:Menlo,'DejaVu Sans Mono',consolas,'Courier New',monospace\"><span style=\"font-weight: bold\"> Optimizer params: </span><span style=\"color: #00af00; text-decoration-color: #00af00\">2</span> (12.00 B)\n",
       "</pre>\n"
      ],
      "text/plain": [
       "\u001b[1m Optimizer params: \u001b[0m\u001b[38;5;34m2\u001b[0m (12.00 B)\n"
      ]
     },
     "metadata": {},
     "output_type": "display_data"
    }
   ],
   "source": [
    "# Load the pre-trained model with ReLU activation\n",
    "model = load_model('simple_rnn_imdb.h5')\n",
    "model.summary()"
   ]
  },
  {
   "cell_type": "code",
   "execution_count": 25,
   "id": "a00bcfc4",
   "metadata": {},
   "outputs": [
    {
     "data": {
      "text/plain": [
       "[array([[ 0.40760463,  0.03276071, -0.74811506, ...,  0.02607401,\n",
       "         -0.6470906 , -0.05412723],\n",
       "        [-0.04451164, -0.0680543 , -0.07576684, ..., -0.13366272,\n",
       "          0.11554543,  0.07620221],\n",
       "        [ 0.06079949, -0.13689876, -0.0846645 , ..., -0.1193408 ,\n",
       "         -0.00809591,  0.07296979],\n",
       "        ...,\n",
       "        [ 0.07250222,  0.01818659,  0.02713482, ...,  0.01424589,\n",
       "         -0.08015507,  0.00439171],\n",
       "        [-0.05830826,  0.15015355,  0.00712601, ...,  0.12818159,\n",
       "         -0.04880264, -0.19028643],\n",
       "        [-0.06301326, -0.18672442,  0.13481054, ..., -0.09623257,\n",
       "          0.09697306,  0.12170984]], dtype=float32),\n",
       " array([[-0.03228221,  0.13321249,  0.16662067, ..., -0.12206438,\n",
       "          0.00584854,  0.03807707],\n",
       "        [-0.00354545, -0.03442017, -0.15874778, ..., -0.0252024 ,\n",
       "         -0.03079377,  0.1268569 ],\n",
       "        [-0.18914871,  0.13731152, -0.00988362, ...,  0.0238746 ,\n",
       "          0.08018342,  0.03214576],\n",
       "        ...,\n",
       "        [-0.07418384, -0.0188212 , -0.0110187 , ...,  0.13353136,\n",
       "          0.08290774, -0.01046572],\n",
       "        [-0.03150557,  0.18193312,  0.06683615, ..., -0.03265807,\n",
       "         -0.07715905, -0.09645694],\n",
       "        [ 0.07944403, -0.03361451,  0.04681109, ...,  0.02856818,\n",
       "          0.00985204,  0.00496697]], dtype=float32),\n",
       " array([[-0.08653434,  0.27094218, -0.18688741, ..., -0.02858453,\n",
       "          0.1191377 , -0.06143869],\n",
       "        [-0.10259482, -0.01767862, -0.06057861, ...,  0.07636283,\n",
       "         -0.02961116,  0.01319803],\n",
       "        [-0.2502707 ,  0.16552575, -0.0863082 , ..., -0.05478699,\n",
       "         -0.08696214,  0.2817251 ],\n",
       "        ...,\n",
       "        [ 0.09593826, -0.07213189, -0.06253856, ..., -0.02988108,\n",
       "          0.03781227, -0.04296206],\n",
       "        [-0.07706476, -0.01621401, -0.04146345, ..., -0.06412618,\n",
       "          0.18260266,  0.1062069 ],\n",
       "        [-0.08311976,  0.10552032, -0.10221666, ..., -0.07111725,\n",
       "         -0.08117782, -0.17033814]], dtype=float32),\n",
       " array([-0.01084005, -0.00734478, -0.01984661, -0.02815607, -0.03348941,\n",
       "         0.00284241, -0.02339333, -0.05472019, -0.03110711,  0.00801092,\n",
       "         0.07119701, -0.00251027, -0.05150073,  0.03633009, -0.03324394,\n",
       "        -0.00936982,  0.0074285 , -0.00217217, -0.00224007, -0.02495678,\n",
       "         0.01273345, -0.04616076, -0.03435751, -0.04392701, -0.0199375 ,\n",
       "        -0.07349385,  0.02450373,  0.04772444, -0.03850931, -0.02397449,\n",
       "        -0.04850237, -0.02455321, -0.050879  ,  0.0686922 ,  0.01085022,\n",
       "        -0.00344686,  0.01743205, -0.01794016, -0.02731753, -0.02312394,\n",
       "         0.02285987, -0.07293763, -0.02959559, -0.0307905 , -0.02082123,\n",
       "         0.0495488 ,  0.02272511, -0.00691768,  0.03277847,  0.02549624,\n",
       "         0.02290743, -0.02766206, -0.02782915, -0.02716296,  0.02227126,\n",
       "        -0.01370421,  0.01101791, -0.05356925, -0.03101183,  0.06194346,\n",
       "         0.00622344, -0.01804604,  0.0293031 ,  0.05028348, -0.01710104,\n",
       "        -0.04486933, -0.04684709, -0.03731349,  0.04176169, -0.04515128,\n",
       "        -0.03592782, -0.05432817,  0.089775  ,  0.02471171,  0.04439732,\n",
       "         0.00855527, -0.00347893,  0.02009206, -0.05320993, -0.02120152,\n",
       "        -0.04852233, -0.04102031, -0.05997447,  0.04617837, -0.04783392,\n",
       "        -0.04976115,  0.01970971, -0.03824756,  0.03207196, -0.08367775,\n",
       "         0.01949937,  0.04042015, -0.01937014, -0.02732268,  0.03348413,\n",
       "        -0.03336525, -0.04075744, -0.03553172,  0.02094733,  0.04125164,\n",
       "        -0.00446698,  0.02052867, -0.0343583 , -0.01074956,  0.01290959,\n",
       "        -0.03481542,  0.00106702,  0.09217887, -0.01639294, -0.03569447,\n",
       "         0.01024244, -0.03431753, -0.03621114, -0.02584043,  0.04810378,\n",
       "        -0.00117135, -0.04428786, -0.02623237, -0.02006609, -0.02538192,\n",
       "        -0.07684391, -0.01956175,  0.01667134, -0.03265776,  0.03772138,\n",
       "        -0.03505184, -0.02984746,  0.07271288], dtype=float32),\n",
       " array([[ 6.71806782e-02],\n",
       "        [ 6.79590777e-02],\n",
       "        [ 4.18606400e-01],\n",
       "        [-1.40932426e-01],\n",
       "        [-1.00527722e-02],\n",
       "        [ 2.47639224e-01],\n",
       "        [ 1.00254677e-01],\n",
       "        [ 9.91068304e-01],\n",
       "        [-1.92683533e-01],\n",
       "        [ 6.30648853e-03],\n",
       "        [-1.36914879e-01],\n",
       "        [ 1.13015950e-01],\n",
       "        [-3.37593481e-02],\n",
       "        [ 1.64138272e-01],\n",
       "        [ 1.82899550e-01],\n",
       "        [-2.17316568e-01],\n",
       "        [-2.23182261e-01],\n",
       "        [-1.24433100e-01],\n",
       "        [-1.29339039e-01],\n",
       "        [-1.57954752e-01],\n",
       "        [-1.72543988e-01],\n",
       "        [ 9.71433520e-03],\n",
       "        [-1.92715183e-01],\n",
       "        [ 5.76575696e-02],\n",
       "        [-4.16241400e-02],\n",
       "        [ 4.46156681e-01],\n",
       "        [-5.65772772e-01],\n",
       "        [ 7.74533153e-02],\n",
       "        [ 1.97823733e-01],\n",
       "        [-1.37649952e-02],\n",
       "        [-3.70183960e-02],\n",
       "        [-9.02720690e-02],\n",
       "        [ 1.69877768e-01],\n",
       "        [ 2.39264533e-01],\n",
       "        [ 2.18352266e-02],\n",
       "        [-1.05724193e-01],\n",
       "        [-1.06548935e-01],\n",
       "        [-2.06894577e-01],\n",
       "        [-1.44610465e-01],\n",
       "        [ 5.73728867e-02],\n",
       "        [-1.41469344e-01],\n",
       "        [ 1.48060676e-02],\n",
       "        [-2.04607427e-01],\n",
       "        [-1.90506220e-01],\n",
       "        [-2.78598815e-01],\n",
       "        [-2.07389682e-03],\n",
       "        [-7.46688694e-02],\n",
       "        [-1.25256330e-01],\n",
       "        [ 5.13475277e-02],\n",
       "        [-2.00802349e-02],\n",
       "        [ 1.11497186e-01],\n",
       "        [-1.08225547e-01],\n",
       "        [ 6.08536124e-04],\n",
       "        [-9.18115005e-02],\n",
       "        [ 2.03768149e-01],\n",
       "        [-2.32751742e-02],\n",
       "        [-1.08264372e-01],\n",
       "        [-1.81585565e-01],\n",
       "        [-1.75083712e-01],\n",
       "        [ 1.14460304e-01],\n",
       "        [-2.20391721e-01],\n",
       "        [ 4.75859381e-02],\n",
       "        [-1.02226698e+00],\n",
       "        [ 1.24969810e-01],\n",
       "        [-1.48685470e-01],\n",
       "        [ 2.27063522e-03],\n",
       "        [ 5.20104244e-02],\n",
       "        [-1.79652557e-01],\n",
       "        [-7.90400803e-02],\n",
       "        [-8.04673135e-03],\n",
       "        [-1.46879002e-01],\n",
       "        [-2.77960598e-01],\n",
       "        [ 1.72314718e-01],\n",
       "        [-1.53937399e-01],\n",
       "        [-7.20112026e-02],\n",
       "        [ 7.37049431e-02],\n",
       "        [-1.28070042e-01],\n",
       "        [-1.14234500e-01],\n",
       "        [ 2.95315776e-02],\n",
       "        [ 5.39919473e-02],\n",
       "        [ 2.44719200e-02],\n",
       "        [-5.42482615e-01],\n",
       "        [-9.26232040e-02],\n",
       "        [-7.25683868e-02],\n",
       "        [ 3.95880453e-02],\n",
       "        [ 1.39529958e-01],\n",
       "        [-2.22309381e-01],\n",
       "        [ 2.99569927e-02],\n",
       "        [-7.81771019e-02],\n",
       "        [ 6.47879317e-02],\n",
       "        [-3.16595333e-03],\n",
       "        [ 2.82575607e-01],\n",
       "        [ 1.47016883e-01],\n",
       "        [-3.81441973e-02],\n",
       "        [ 5.38216680e-02],\n",
       "        [-8.77007172e-02],\n",
       "        [-2.65418608e-02],\n",
       "        [-1.00980446e-01],\n",
       "        [-1.96604401e-01],\n",
       "        [-2.63175786e-01],\n",
       "        [-3.91091555e-02],\n",
       "        [-1.34663403e-01],\n",
       "        [-2.31666401e-01],\n",
       "        [ 9.61950868e-02],\n",
       "        [-1.45115122e-01],\n",
       "        [-6.38998374e-02],\n",
       "        [-1.35721907e-01],\n",
       "        [-2.22412452e-01],\n",
       "        [-1.16144478e-01],\n",
       "        [ 1.87991355e-02],\n",
       "        [ 1.20620266e-01],\n",
       "        [ 2.87998766e-01],\n",
       "        [-2.34649833e-02],\n",
       "        [ 1.13373116e-01],\n",
       "        [ 4.03702199e-01],\n",
       "        [-1.81441903e-01],\n",
       "        [-9.11660120e-02],\n",
       "        [-2.53507137e-01],\n",
       "        [-3.97306770e-01],\n",
       "        [ 4.02306356e-02],\n",
       "        [ 9.66955051e-02],\n",
       "        [-4.12122812e-03],\n",
       "        [-7.38287643e-02],\n",
       "        [ 3.84590365e-02],\n",
       "        [-5.64014912e-02],\n",
       "        [ 9.81538668e-02],\n",
       "        [ 1.39004260e-01],\n",
       "        [ 4.77198400e-02]], dtype=float32),\n",
       " array([1.2233951], dtype=float32)]"
      ]
     },
     "execution_count": 25,
     "metadata": {},
     "output_type": "execute_result"
    }
   ],
   "source": [
    "model.get_weights()"
   ]
  },
  {
   "cell_type": "code",
   "execution_count": 26,
   "id": "00b883aa",
   "metadata": {},
   "outputs": [],
   "source": [
    "# Step 2: Helper Functions\n",
    "# Function to decode reviews\n",
    "def decode_review(encoded_review):\n",
    "    return ' '.join([reverse_word_index.get(i - 3, '?') for i in encoded_review])\n",
    "\n",
    "# Function to preprocess user input\n",
    "def preprocess_text(text):\n",
    "    words = text.lower().split()\n",
    "    encoded_review = [word_index.get(word, 2) + 3 for word in words]\n",
    "    padded_review = sequence.pad_sequences([encoded_review], maxlen=500)\n",
    "    return padded_review"
   ]
  },
  {
   "cell_type": "code",
   "execution_count": 27,
   "id": "8d439a12",
   "metadata": {},
   "outputs": [],
   "source": [
    "### Prediction  function\n",
    "\n",
    "def predict_sentiment(review):\n",
    "    preprocessed_input=preprocess_text(review)\n",
    "\n",
    "    prediction=model.predict(preprocessed_input)\n",
    "\n",
    "    sentiment = 'Positive' if prediction[0][0] > 0.5 else 'Negative'\n",
    "    \n",
    "    return sentiment, prediction[0][0]"
   ]
  },
  {
   "cell_type": "code",
   "execution_count": 28,
   "id": "24fc275a",
   "metadata": {},
   "outputs": [
    {
     "name": "stdout",
     "output_type": "stream",
     "text": [
      "\u001b[1m1/1\u001b[0m \u001b[32m━━━━━━━━━━━━━━━━━━━━\u001b[0m\u001b[37m\u001b[0m \u001b[1m0s\u001b[0m 255ms/step\n",
      "Review: This movie was fantastic! The acting was great and the plot was thrilling.\n",
      "Sentiment: Positive\n",
      "Prediction Score: 0.6152999401092529\n"
     ]
    }
   ],
   "source": [
    "# Step 4: User Input and Prediction\n",
    "# Example review for prediction\n",
    "example_review = \"This movie was fantastic! The acting was great and the plot was thrilling.\"\n",
    "\n",
    "sentiment,score=predict_sentiment(example_review)\n",
    "\n",
    "print(f'Review: {example_review}')\n",
    "print(f'Sentiment: {sentiment}')\n",
    "print(f'Prediction Score: {score}')"
   ]
  }
 ],
 "metadata": {
  "kernelspec": {
   "display_name": "venv",
   "language": "python",
   "name": "python3"
  },
  "language_info": {
   "codemirror_mode": {
    "name": "ipython",
    "version": 3
   },
   "file_extension": ".py",
   "mimetype": "text/x-python",
   "name": "python",
   "nbconvert_exporter": "python",
   "pygments_lexer": "ipython3",
   "version": "3.12.7"
  }
 },
 "nbformat": 4,
 "nbformat_minor": 5
}
